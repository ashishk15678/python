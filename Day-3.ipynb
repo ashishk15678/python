{
 "cells": [
  {
   "cell_type": "code",
   "execution_count": 4,
   "metadata": {},
   "outputs": [
    {
     "name": "stdout",
     "output_type": "stream",
     "text": [
      "Hello world new\n",
      "H\n",
      "e\n",
      "l\n",
      "l\n",
      "o\n",
      " \n",
      "w\n",
      "o\n",
      "r\n",
      "l\n",
      "d\n"
     ]
    }
   ],
   "source": [
    "s = \"Hello world\"\n",
    "\n",
    "print(s+\" new\")\n",
    "for i in s:\n",
    "    print(i)"
   ]
  },
  {
   "cell_type": "code",
   "execution_count": 28,
   "metadata": {},
   "outputs": [
    {
     "name": "stdout",
     "output_type": "stream",
     "text": [
      "The string is: Hello world and the character is: 2\n"
     ]
    }
   ],
   "source": [
    "print(\"The string is: %s and the character is: %d\" % (s, 2))"
   ]
  },
  {
   "cell_type": "code",
   "execution_count": 29,
   "metadata": {},
   "outputs": [
    {
     "name": "stdout",
     "output_type": "stream",
     "text": [
      "False\n"
     ]
    }
   ],
   "source": [
    "a = \"aBc\" > \"abc\"\n",
    "print(a)"
   ]
  },
  {
   "cell_type": "code",
   "execution_count": 49,
   "metadata": {},
   "outputs": [
    {
     "name": "stdout",
     "output_type": "stream",
     "text": [
      "Capitalize :  How are you?\n",
      "Upper :  HOW ARE YOU?\n",
      "Lower :  how are you?\n",
      "Casefold :  how are you?\n",
      "..............................................................................................how are you?..............................................................................................\n",
      "['how', 'are', 'you?']\n"
     ]
    }
   ],
   "source": [
    "a = \"how are you?\"\n",
    "print(\"Capitalize : \",a.capitalize())\n",
    "print(\"Upper : \",a.upper())\n",
    "b = a.upper()\n",
    "print(\"Lower : \",b.lower())\n",
    "print(\"Casefold : \",b.casefold())\n",
    "print(a.center(200,\".\"))\n",
    "print(a.split(\" \"))"
   ]
  },
  {
   "cell_type": "code",
   "execution_count": 52,
   "metadata": {},
   "outputs": [
    {
     "name": "stdout",
     "output_type": "stream",
     "text": [
      "SUM: 250\n"
     ]
    }
   ],
   "source": [
    "i = input(\"Enter three values with space\")\n",
    "sum = 0\n",
    "for j in i.split(\" \"):\n",
    "    sum += int(j)\n",
    "print(\"SUM:\",sum)"
   ]
  },
  {
   "cell_type": "code",
   "execution_count": 62,
   "metadata": {},
   "outputs": [
    {
     "name": "stdout",
     "output_type": "stream",
     "text": [
      "{'a': 1, 'b': 2, 'c': 3}\n"
     ]
    }
   ],
   "source": [
    "l1 = [\"a\",\"b\",\"c\"]\n",
    "l2 = [1,2,3]\n",
    "z = zip(l1,l2)\n",
    "print(dict(z))"
   ]
  },
  {
   "cell_type": "code",
   "execution_count": null,
   "metadata": {},
   "outputs": [],
   "source": [
    "def isVow(s:str):\n",
    "    if (not s.isalpha):\n",
    "        exit(-1)\n",
    "    if ( s == \"a\" or s == \"e\" or s == \"i\" or s == \"o\" or s == \"u\" ):\n",
    "        return True\n",
    "    \n",
    "    if ( s == \"A\" or s == \"E\" or s == \"I\" or s == \"O\" or s == \"U\" ):\n",
    "        return True\n",
    "    return False"
   ]
  }
 ],
 "metadata": {
  "kernelspec": {
   "display_name": "venv",
   "language": "python",
   "name": "python3"
  },
  "language_info": {
   "codemirror_mode": {
    "name": "ipython",
    "version": 3
   },
   "file_extension": ".py",
   "mimetype": "text/x-python",
   "name": "python",
   "nbconvert_exporter": "python",
   "pygments_lexer": "ipython3",
   "version": "3.12.3"
  }
 },
 "nbformat": 4,
 "nbformat_minor": 2
}
