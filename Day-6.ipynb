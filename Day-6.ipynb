{
 "cells": [
  {
   "cell_type": "code",
   "execution_count": 14,
   "metadata": {},
   "outputs": [
    {
     "name": "stdout",
     "output_type": "stream",
     "text": [
      "\n",
      "2 3 5 7 11 13 17 19 23 29 31 37 41 43 47 53 59 61 67 71 73 79 83 89 97 "
     ]
    }
   ],
   "source": [
    "# Prime numbers till range\n",
    "n = int(input(\"Enter a range\"))\n",
    "print()\n",
    "for i in range(n):\n",
    "    if(i == 0 or i == 1 or i == 4):\n",
    "        continue\n",
    "    prime = True\n",
    "    for j in range(i//2):\n",
    "        if(j == 0 or j == 1):\n",
    "            continue\n",
    "        if(i%j == 0):\n",
    "            prime = False\n",
    "    if(prime):\n",
    "        print(i,end=\" \")"
   ]
  },
  {
   "cell_type": "code",
   "execution_count": 16,
   "metadata": {},
   "outputs": [
    {
     "name": "stdout",
     "output_type": "stream",
     "text": [
      "0 1 2 3 4 5 6 7 8 9 153 "
     ]
    }
   ],
   "source": [
    "def isArmstrong(n):\n",
    "    # Armstrong number\n",
    "\n",
    "    m = n\n",
    "    a = n\n",
    "    digits = 0\n",
    "    while a > 0:\n",
    "        digits += 1\n",
    "        a = a//10\n",
    "\n",
    "    sum = 0\n",
    "    while n > 0:\n",
    "        sum += (n%10) ** digits\n",
    "        n = n//10\n",
    "    if(sum == m):\n",
    "        return True\n",
    "    else :\n",
    "        return False\n",
    "\n",
    "n = int(input(\"Enter a range: \"))\n",
    "for i in range(n+1):\n",
    "    if isArmstrong(i):\n",
    "        print(i,end=\" \")\n"
   ]
  },
  {
   "cell_type": "code",
   "execution_count": 19,
   "metadata": {},
   "outputs": [
    {
     "name": "stdout",
     "output_type": "stream",
     "text": [
      "Palindrome\n"
     ]
    }
   ],
   "source": [
    "# Palindrome\n",
    "n = int(input(\"Enter the palindrome number: \"))\n",
    "a = int(str(n)[::-1])\n",
    "if(a == n):\n",
    "    print(\"Palindrome\")\n",
    "else:\n",
    "    print(\"Not Palindrome\")"
   ]
  },
  {
   "cell_type": "code",
   "execution_count": 24,
   "metadata": {},
   "outputs": [
    {
     "name": "stdout",
     "output_type": "stream",
     "text": [
      "[1, 2]\n",
      "[1, 2, [1, 2]]\n"
     ]
    }
   ],
   "source": [
    "n = int(input(\"Enter the number of elements\"))\n",
    "l = []\n",
    "for i in range(n):\n",
    "    a = int(input(\"Enter element\"))\n",
    "    l.append(a)\n",
    "print(l)\n",
    "l1 = []\n",
    "for i in range(n):\n",
    "    a = int(input(\"Enter element\"))\n",
    "    l1.append(a)\n",
    "l.append(l1)\n",
    "print(l)"
   ]
  },
  {
   "cell_type": "code",
   "execution_count": 29,
   "metadata": {},
   "outputs": [
    {
     "name": "stdout",
     "output_type": "stream",
     "text": [
      "[3, 4, 2]\n",
      "[6, 8, 4]\n"
     ]
    }
   ],
   "source": [
    "n = int(input(\"Number of elements\"))\n",
    "l = []\n",
    "for i in range(n):\n",
    "    a = int(input(\"\"))\n",
    "    l.append(a)\n",
    "l1 = []\n",
    "for i in l:\n",
    "    l1.append(i*2)\n",
    "print(l)\n",
    "print(l1)"
   ]
  },
  {
   "cell_type": "code",
   "execution_count": 3,
   "metadata": {},
   "outputs": [
    {
     "name": "stdout",
     "output_type": "stream",
     "text": [
      "[1, 4, 9, 16, 25]\n"
     ]
    }
   ],
   "source": [
    "# Write a program to create a list of square of elements of list\n",
    "a = [1,2,3,4,5]\n",
    "def square(a):\n",
    "    l = []\n",
    "    for i in a:\n",
    "        l.append(i**2)\n",
    "    return l\n",
    "l = square(a)\n",
    "print(l)"
   ]
  },
  {
   "cell_type": "code",
   "execution_count": 10,
   "metadata": {},
   "outputs": [
    {
     "name": "stdout",
     "output_type": "stream",
     "text": [
      "ERROR : Wrong choice\n",
      "ERROR : Wronng Choice\n",
      "Result: 0\n"
     ]
    }
   ],
   "source": [
    "# Calculator using functions\n",
    "\n",
    "def add(x,y):\n",
    "    return x+y\n",
    "def sub(x,y):\n",
    "    return x-y\n",
    "def mul(x,y):\n",
    "    return x*y\n",
    "def div(x,y):\n",
    "    return x/y\n",
    "\n",
    "\n",
    "a = int(input(\"Write your choice: \\n1. Addition\\n2. Subtraction\\n3. Multiplication\\n4. Division\"))\n",
    "if (a!=1 or a!=2 or a!=3 or a!=4):\n",
    "    print(\"ERROR : Wrong choice\")\n",
    "    exit(-1)\n",
    "b = int(input(\"First number: \"))\n",
    "c = int(input(\"Second number: \"))\n",
    "res = 0\n",
    "if(a == 1):\n",
    "    res = add(b,c)\n",
    "elif a == 2:\n",
    "    res = sub(b,c)\n",
    "elif a == 3:\n",
    "    res = mul(b,c)\n",
    "elif a == 4:\n",
    "    res = div(b,c)\n",
    "else :\n",
    "    print(\"ERROR : Wronng Choice\")\n",
    "    exit(-1)\n",
    "print(\"Result:\",res)"
   ]
  },
  {
   "cell_type": "code",
   "execution_count": 16,
   "metadata": {},
   "outputs": [
    {
     "name": "stdout",
     "output_type": "stream",
     "text": [
      "Result: 28.259999999999998\n"
     ]
    }
   ],
   "source": [
    "# Area \n",
    "\n",
    "# Calculator using functions\n",
    "def sqaure(side):\n",
    "    return side*side\n",
    "\n",
    "def rect(l,b):\n",
    "    return l*b\n",
    "\n",
    "def circle(r):\n",
    "    return 3.14*r*r\n",
    "\n",
    "def tri(b,h):\n",
    "    return (b*h)//2\n",
    "\n",
    "a = int(input(\"Write your choice: \\n1. Square\\n2. Circle\\n3. Rectangle\\n4. Triangle\"))\n",
    "if (a!=1 and a!=2 and a!=3 and a!=4):\n",
    "    print(\"ERROR : Wrong choice\")\n",
    "    exit(-1)\n",
    "res = 0\n",
    "if(a == 1):\n",
    "    b = int(input(\"Side of the square: \"))\n",
    "    res = sqaure(b)\n",
    "elif a == 2:\n",
    "    b = int(input(\"Enter radius of circle\"))\n",
    "    res = circle(b)\n",
    "\n",
    "elif a == 3:\n",
    "    b = int(input(\"Enter length: \"))\n",
    "    c = int(input(\"Enter breadth: \"))\n",
    "    res = rect(b,c)\n",
    "elif a == 4:\n",
    "    b = int(input(\"Enter base of triangle: \"))\n",
    "    c = int(input(\"Enter height of triangle: \"))\n",
    "    res = tri(b,c)\n",
    "\n",
    "print(\"Result:\",res)"
   ]
  },
  {
   "cell_type": "code",
   "execution_count": 18,
   "metadata": {},
   "outputs": [
    {
     "name": "stdout",
     "output_type": "stream",
     "text": [
      "Simple interest:  0.24\n"
     ]
    }
   ],
   "source": [
    "def simpleInterest(principal,rate,time):\n",
    "    return (principal*rate*time)/100\n",
    "p = int(input(\"Principal: \"))\n",
    "r = int(input(\"Rate: \"))\n",
    "t = int(input(\"Time in years: \"))\n",
    "print(\"Simple interest: \",simpleInterest(p,r,t))"
   ]
  },
  {
   "cell_type": "code",
   "execution_count": 27,
   "metadata": {},
   "outputs": [
    {
     "name": "stdout",
     "output_type": "stream",
     "text": [
      "-inf\n",
      "inf\n"
     ]
    }
   ],
   "source": [
    "def abso(n):\n",
    "    print(n)\n",
    "    if(n<0):\n",
    "        return -n\n",
    "    return n\n",
    "print(abso(-float('inf')))"
   ]
  },
  {
   "cell_type": "code",
   "execution_count": 2,
   "metadata": {},
   "outputs": [
    {
     "name": "stdout",
     "output_type": "stream",
     "text": [
      "<class 'tuple'>\n",
      "27\n"
     ]
    }
   ],
   "source": []
  },
  {
   "cell_type": "code",
   "execution_count": null,
   "metadata": {},
   "outputs": [],
   "source": []
  }
 ],
 "metadata": {
  "kernelspec": {
   "display_name": "venv",
   "language": "python",
   "name": "python3"
  },
  "language_info": {
   "codemirror_mode": {
    "name": "ipython",
    "version": 3
   },
   "file_extension": ".py",
   "mimetype": "text/x-python",
   "name": "python",
   "nbconvert_exporter": "python",
   "pygments_lexer": "ipython3",
   "version": "3.12.3"
  }
 },
 "nbformat": 4,
 "nbformat_minor": 2
}
