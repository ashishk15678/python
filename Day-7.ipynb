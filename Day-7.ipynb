{
 "cells": [
  {
   "cell_type": "code",
   "execution_count": 10,
   "metadata": {},
   "outputs": [
    {
     "name": "stdout",
     "output_type": "stream",
     "text": [
      "<class 'tuple'>\n",
      "29\n"
     ]
    }
   ],
   "source": [
    "# Variable name argument\n",
    "\n",
    "def add(y,*x):\n",
    "    print(type(x))\n",
    "    for i in x:\n",
    "        y += i\n",
    "    return y\n",
    "y = 2\n",
    "y=add(y,2,3,4,5,6,7)\n",
    "print(y)"
   ]
  },
  {
   "cell_type": "code",
   "execution_count": 11,
   "metadata": {},
   "outputs": [
    {
     "name": "stdout",
     "output_type": "stream",
     "text": [
      "144\n"
     ]
    }
   ],
   "source": [
    "square = lambda x: x ** 2\n",
    "result = square(12)\n",
    "print(result)"
   ]
  },
  {
   "cell_type": "code",
   "execution_count": 12,
   "metadata": {},
   "outputs": [
    {
     "name": "stdout",
     "output_type": "stream",
     "text": [
      "7\n"
     ]
    }
   ],
   "source": [
    "def div(x,y,ct=0):\n",
    "    if (x-y) < 0:\n",
    "        return ct\n",
    "    ct+=1\n",
    "    return div(x-y,y,ct)\n",
    "print(div(22,3))"
   ]
  },
  {
   "cell_type": "code",
   "execution_count": 13,
   "metadata": {},
   "outputs": [
    {
     "name": "stdout",
     "output_type": "stream",
     "text": [
      "8\n"
     ]
    }
   ],
   "source": [
    "def power(x,y,r=1):\n",
    "    if(y<=0):\n",
    "        return r\n",
    "    r *= x\n",
    "    return power(x,y-1,r)\n",
    "print(power(2,3)) "
   ]
  },
  {
   "cell_type": "code",
   "execution_count": 14,
   "metadata": {},
   "outputs": [
    {
     "name": "stdout",
     "output_type": "stream",
     "text": [
      "543212345"
     ]
    }
   ],
   "source": [
    "def abc(n):\n",
    "    if(n<=1):\n",
    "        print(n,end=\"\")\n",
    "        return\n",
    "    print(n,end=\"\")\n",
    "    abc(n-1)\n",
    "    print(n,end=\"\")\n",
    "(abc(5))"
   ]
  },
  {
   "cell_type": "code",
   "execution_count": 15,
   "metadata": {},
   "outputs": [
    {
     "name": "stdout",
     "output_type": "stream",
     "text": [
      "[1, 2, 3, 4, 5, 89, 8900, 12300]\n",
      "[1, 4, 9, 16, 25, 7921, 79210000, 151290000]\n"
     ]
    }
   ],
   "source": [
    "# Map function\n",
    "\n",
    "a = [1,2,3,4,5,89,8900,12300]\n",
    "def mysquare(x):\n",
    "    return x**2\n",
    "b = map(mysquare,a)\n",
    "print(a)\n",
    "print(list(b))"
   ]
  },
  {
   "cell_type": "code",
   "execution_count": 16,
   "metadata": {},
   "outputs": [
    {
     "name": "stdout",
     "output_type": "stream",
     "text": [
      "15\n"
     ]
    }
   ],
   "source": [
    "from functools import reduce\n",
    "# Reduce function\n",
    "\n",
    "a = [1,2,3,4,5]\n",
    "b = reduce(lambda a,b : a+b,a)\n",
    "print(b)"
   ]
  },
  {
   "cell_type": "code",
   "execution_count": 17,
   "metadata": {},
   "outputs": [
    {
     "name": "stdout",
     "output_type": "stream",
     "text": [
      "[1, 2, 3, 4, 5] [2, 4] [1, 3, 5]\n"
     ]
    }
   ],
   "source": [
    "a = [1,2,3,4,5]\n",
    "def fil(a):\n",
    "    if a % 2 == 0:\n",
    "        return a\n",
    "even = filter(fil,a)\n",
    "odd = filter(lambda a:not(a%2 == 0) and a,a )\n",
    "    \n",
    "print(a,list(even),list(odd))"
   ]
  },
  {
   "cell_type": "code",
   "execution_count": 18,
   "metadata": {},
   "outputs": [
    {
     "name": "stdout",
     "output_type": "stream",
     "text": [
      "(2, 4, 6)\n",
      "[1, 3, 5]\n"
     ]
    }
   ],
   "source": [
    "a = (1,2,3,4,5,6)\n",
    "even = filter(fil,a)\n",
    "print(tuple(even))\n",
    "print(list(filter(lambda a:not(a%2==0)and a,a)))\n"
   ]
  },
  {
   "cell_type": "code",
   "execution_count": null,
   "metadata": {},
   "outputs": [],
   "source": []
  }
 ],
 "metadata": {
  "kernelspec": {
   "display_name": "venv",
   "language": "python",
   "name": "python3"
  },
  "language_info": {
   "codemirror_mode": {
    "name": "ipython",
    "version": 3
   },
   "file_extension": ".py",
   "mimetype": "text/x-python",
   "name": "python",
   "nbconvert_exporter": "python",
   "pygments_lexer": "ipython3",
   "version": "3.12.3"
  }
 },
 "nbformat": 4,
 "nbformat_minor": 2
}
