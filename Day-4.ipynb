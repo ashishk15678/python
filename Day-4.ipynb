{
 "cells": [
  {
   "cell_type": "code",
   "execution_count": 4,
   "metadata": {},
   "outputs": [
    {
     "name": "stdout",
     "output_type": "stream",
     "text": [
      "1 2 3 4 5 6 7 8 9 10 "
     ]
    }
   ],
   "source": [
    "# Loops in python\n",
    "\n",
    "# Write a program to write 1,2,3,4,5,6,7,8,9,10\n",
    "i = 11\n",
    "while(i<=10):\n",
    "    print(i,end=\" \")\n",
    "    i += 1\n",
    "\n"
   ]
  },
  {
   "cell_type": "code",
   "execution_count": 2,
   "metadata": {},
   "outputs": [
    {
     "name": "stdout",
     "output_type": "stream",
     "text": [
      "20 18 16 14 12 10 8 6 4 2 "
     ]
    }
   ],
   "source": [
    "# Write a program to write 20 , 18 , 16, 14, 12, 10 , 8, 6 , 4 ,2\n",
    "i = 20\n",
    "while(i>0):\n",
    "    print(i,end=\" \")\n",
    "    i-=2"
   ]
  },
  {
   "cell_type": "code",
   "execution_count": 15,
   "metadata": {},
   "outputs": [
    {
     "name": "stdout",
     "output_type": "stream",
     "text": [
      "Not perfect number\n"
     ]
    }
   ],
   "source": [
    "# Write a program to check perfect number\n",
    "# Perfect Number :- \n",
    "\n",
    "n = 38\n",
    "a = []\n",
    "for i in range(int(n)):\n",
    "    if(i == 0):\n",
    "        continue\n",
    "    if(n%i ==0):\n",
    "        a.append(i)\n",
    "sum = 0\n",
    "for i in a:\n",
    "    sum += i\n",
    "if(sum == n):\n",
    "    print(\"Perfect number\")\n",
    "else:\n",
    "    print(\"Not perfect number\")"
   ]
  },
  {
   "cell_type": "code",
   "execution_count": 36,
   "metadata": {},
   "outputs": [
    {
     "name": "stdout",
     "output_type": "stream",
     "text": [
      "Armstrong number\n"
     ]
    }
   ],
   "source": [
    "# Armstrong number\n",
    "\n",
    "n = 371\n",
    "m = n\n",
    "a = n\n",
    "digits = 0\n",
    "# digits\n",
    "# print(\"m\",m,\"a,\",a,)\n",
    "while a > 0:\n",
    "    digits += 1\n",
    "    a = a//10\n",
    "\n",
    "sum = 0\n",
    "# print(\"digits :\",digits)\n",
    "# print(\"n\",n)\n",
    "while n > 0:\n",
    "    sum += (n%10) ** digits\n",
    "    n = n//10\n",
    "if(sum == m):\n",
    "    print(\"Armstrong number\")\n",
    "else :\n",
    "    print(\"Not armstrong\")\n"
   ]
  },
  {
   "cell_type": "code",
   "execution_count": 47,
   "metadata": {},
   "outputs": [
    {
     "name": "stdout",
     "output_type": "stream",
     "text": [
      "Prime number\n"
     ]
    }
   ],
   "source": [
    "# Prime mumber\n",
    "\n",
    "n = int(input(\"number\"))\n",
    "prime = True\n",
    "if(n<1):\n",
    "    print(\"Not a valid number\")\n",
    "    exit(0)\n",
    "for i in range(n//2):\n",
    "    if(i == 0 or i == 1):\n",
    "        continue\n",
    "    if(n % i == 0):\n",
    "        prime = False\n",
    "if(prime):\n",
    "    print(\"Prime number\")\n",
    "else:\n",
    "    print(\"Not prime\")\n",
    "\n",
    "\n"
   ]
  },
  {
   "cell_type": "code",
   "execution_count": 48,
   "metadata": {},
   "outputs": [
    {
     "name": "stdout",
     "output_type": "stream",
     "text": [
      "Prime number\n"
     ]
    }
   ],
   "source": [
    "# Sir's solution\n",
    "\n",
    "n = int(input(\"Enter nummber: \"))\n",
    "i = 2\n",
    "prime = False\n",
    "while(i<=n//2):\n",
    "    if(n%i == 0):\n",
    "        prime = True\n",
    "    i+=1\n",
    "if(prime):\n",
    "    print(\"Not Prime number\")\n",
    "else:\n",
    "    print(\"Prime number\")"
   ]
  },
  {
   "cell_type": "code",
   "execution_count": 50,
   "metadata": {},
   "outputs": [
    {
     "name": "stdout",
     "output_type": "stream",
     "text": [
      "Factorial of given number is 120\n"
     ]
    }
   ],
   "source": [
    "# factorial\n",
    "n = 5\n",
    "i = 1\n",
    "prod = 1\n",
    "if(n<1):\n",
    "    print(\"Factorial of given number is 1\")\n",
    "    exit(0)\n",
    "while(i<= n):\n",
    "    prod *= i\n",
    "    i+=1\n",
    "print(\"Factorial of given number is\",prod)"
   ]
  },
  {
   "cell_type": "code",
   "execution_count": 55,
   "metadata": {},
   "outputs": [
    {
     "name": "stdout",
     "output_type": "stream",
     "text": [
      "Reverese of 121 is 121\n",
      "Sum of digits of 121 is 4\n",
      "Number of digits of 121 is 3\n"
     ]
    }
   ],
   "source": [
    "n = 121\n",
    "a = n\n",
    "m = n\n",
    "digits = 0\n",
    "while a > 0:\n",
    "    digits += 1\n",
    "    a = a//10\n",
    "\n",
    "sum = 0\n",
    "# print(\"digits :\",digits)\n",
    "# print(\"n\",n)\n",
    "while n > 0:\n",
    "    sum += (n%10) \n",
    "    n = n//10\n",
    "\n",
    "rev = str(m)[::-1]\n",
    "print(\"Reverese of\",m,\"is\",rev)\n",
    "print(\"Sum of digits of\",m,\"is\",sum)\n",
    "print(\"Number of digits of\",m,\"is\",digits)"
   ]
  },
  {
   "cell_type": "code",
   "execution_count": 2,
   "metadata": {},
   "outputs": [
    {
     "name": "stdout",
     "output_type": "stream",
     "text": [
      "0 1 1 2 3 5 8 13 21 34 55 "
     ]
    }
   ],
   "source": [
    "# Fibonacci Number\n",
    "\n",
    "n = 10\n",
    "i = 0 \n",
    "j = 1 \n",
    "k = 0\n",
    "while n >= k:\n",
    "    print(i,end=\" \")\n",
    "    i,j = j,i+j\n",
    "    k+=1\n"
   ]
  },
  {
   "cell_type": "code",
   "execution_count": null,
   "metadata": {},
   "outputs": [],
   "source": []
  }
 ],
 "metadata": {
  "kernelspec": {
   "display_name": "venv",
   "language": "python",
   "name": "python3"
  },
  "language_info": {
   "codemirror_mode": {
    "name": "ipython",
    "version": 3
   },
   "file_extension": ".py",
   "mimetype": "text/x-python",
   "name": "python",
   "nbconvert_exporter": "python",
   "pygments_lexer": "ipython3",
   "version": "3.12.3"
  }
 },
 "nbformat": 4,
 "nbformat_minor": 2
}
