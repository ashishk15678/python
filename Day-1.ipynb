{
 "cells": [
  {
   "cell_type": "code",
   "execution_count": null,
   "metadata": {},
   "outputs": [],
   "source": [
    "# Jan 20 2025\n",
    "print(\"Day 1 begins\")"
   ]
  },
  {
   "cell_type": "code",
   "execution_count": 18,
   "metadata": {},
   "outputs": [
    {
     "name": "stdout",
     "output_type": "stream",
     "text": [
      "a+b =  5\n"
     ]
    }
   ],
   "source": [
    "# Sum of two numbers\n",
    "\n",
    "a = input(\"Enter first number : \")\n",
    "b = input(\"Enter second number: \")\n",
    "c = int(a)+int(b)\n",
    "print(\"a+b = \",c)"
   ]
  },
  {
   "cell_type": "code",
   "execution_count": 5,
   "metadata": {},
   "outputs": [
    {
     "name": "stdout",
     "output_type": "stream",
     "text": [
      "<class 'str'>\n",
      "Fahreneit :  98.6\n"
     ]
    }
   ],
   "source": [
    "# Celsius to fahrenheit\n",
    "\n",
    "c = input(\"Enter celsius : \")\n",
    "print(type(c))\n",
    "f = (9*(int(c))/5) + 32\n",
    "print(f\"Fahreneit : \",f)"
   ]
  },
  {
   "cell_type": "code",
   "execution_count": 19,
   "metadata": {},
   "outputs": [
    {
     "name": "stdout",
     "output_type": "stream",
     "text": [
      "3.0 2.0\n"
     ]
    }
   ],
   "source": [
    "# roots of quadratic equation\n",
    "\n",
    "a = int(input(\"Enter coefficient of x^2\"))\n",
    "b = int(input(\"Enter coefficient of x\"))\n",
    "c = int(input(\"Enter constant\"))\n",
    "d = (-b + ((b**2) - 4*a*c)**0.5)/(2*a)\n",
    "e = (-b - ((b**2) - 4*a*c)**0.5)/(2*a)\n",
    "print(d,e)"
   ]
  },
  {
   "cell_type": "code",
   "execution_count": 13,
   "metadata": {},
   "outputs": [
    {
     "name": "stdout",
     "output_type": "stream",
     "text": [
      "Simple interest is:  0.01\n"
     ]
    }
   ],
   "source": [
    "# simple interest\n",
    "\n",
    "p = int(input(\"Enter prinicipal amount : \"))\n",
    "r = int(input(\"Enter rate: \"))\n",
    "t = int(input(\"Enter time in years: \"))\n",
    "si = (p*r*t)/100\n",
    "print(\"Simple interest is: \",si)"
   ]
  },
  {
   "cell_type": "code",
   "execution_count": 14,
   "metadata": {},
   "outputs": [
    {
     "name": "stdout",
     "output_type": "stream",
     "text": [
      "Area of circle is :  28.274309999999996\n"
     ]
    }
   ],
   "source": [
    "# area of circle\n",
    "\n",
    "r = int(input(\"Enter radius: \"))\n",
    "area = 3.14159 * r*r\n",
    "print(\"Area of circle is : \",area)"
   ]
  },
  {
   "cell_type": "code",
   "execution_count": null,
   "metadata": {},
   "outputs": [
    {
     "name": "stdout",
     "output_type": "stream",
     "text": [
      "Area of rectangle with length 2 and breadth 3 is  6\n"
     ]
    }
   ],
   "source": [
    "# Area of rectangle\n",
    "\n",
    "l = int(input(\"Enter length: \"))\n",
    "b = int(input(\"Enter breadth: \"))\n",
    "print(f\"Area of rectangle with length {l} and breadth {b} is \",l*b)"
   ]
  },
  {
   "cell_type": "code",
   "execution_count": 18,
   "metadata": {},
   "outputs": [
    {
     "name": "stdout",
     "output_type": "stream",
     "text": [
      "Perimiter of rectangle with length 2 and breadth 3 is  10\n"
     ]
    }
   ],
   "source": [
    "# perimiter of rectangle\n",
    "\n",
    "l = int(input(\"Enter length: \"))\n",
    "b = int(input(\"Enter breadth: \"))\n",
    "print(f\"Perimiter of rectangle with length {l} and breadth {b} is \",2*(l+b))"
   ]
  },
  {
   "cell_type": "code",
   "execution_count": 2,
   "metadata": {},
   "outputs": [
    {
     "name": "stdout",
     "output_type": "stream",
     "text": [
      "hello ram\n",
      "mar olleh\n",
      "Even:  hlorm\n",
      "Odd:  el a\n"
     ]
    }
   ],
   "source": [
    "# string slicing\n",
    "\n",
    "a = \"hello ram\"\n",
    "\n",
    "# a[start:stop:step]\n",
    "\n",
    "print(a[::])\n",
    "print(a[::-1])\n",
    "# even\n",
    "print(\"Even: \",a[0:len(a):2])\n",
    "# odd\n",
    "print(\"Odd: \",a[1:len(a):2])\n"
   ]
  },
  {
   "cell_type": "code",
   "execution_count": null,
   "metadata": {},
   "outputs": [],
   "source": []
  }
 ],
 "metadata": {
  "kernelspec": {
   "display_name": "venv",
   "language": "python",
   "name": "python3"
  },
  "language_info": {
   "codemirror_mode": {
    "name": "ipython",
    "version": 3
   },
   "file_extension": ".py",
   "mimetype": "text/x-python",
   "name": "python",
   "nbconvert_exporter": "python",
   "pygments_lexer": "ipython3",
   "version": "3.12.3"
  }
 },
 "nbformat": 4,
 "nbformat_minor": 2
}
