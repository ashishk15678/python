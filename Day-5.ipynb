{
 "cells": [
  {
   "cell_type": "code",
   "execution_count": 10,
   "metadata": {},
   "outputs": [
    {
     "name": "stdout",
     "output_type": "stream",
     "text": [
      "a: 2 is prime number\n"
     ]
    }
   ],
   "source": [
    "# prime number or not using break\n",
    "\n",
    "a = int(input(\"Enter number\"))\n",
    "for i in range(a//2):\n",
    "    if(i == 0 or i == 1):\n",
    "        continue\n",
    "    if(a%i==0):\n",
    "        print(\"a:\",a,\"is composite number\")\n",
    "        break\n",
    "else:\n",
    "    print(\"a:\",a,\"is prime number\")"
   ]
  },
  {
   "cell_type": "code",
   "execution_count": 23,
   "metadata": {},
   "outputs": [
    {
     "name": "stdout",
     "output_type": "stream",
     "text": [
      "1 2 3 7 8 9 \n",
      "\n",
      "1 2 3 7 8 9 "
     ]
    }
   ],
   "source": [
    "# 1 2 3 7 8 9\n",
    "for i in range(1,10):\n",
    "    if(i >= 4 and i<=6):\n",
    "        # print(\"jump\")\n",
    "        continue\n",
    "    print(i,end=\" \")\n",
    "print(\"\\n\")\n",
    "i = 0\n",
    "while(i<9):\n",
    "    i+=1\n",
    "    if(i >= 4 and i<=6):\n",
    "        continue\n",
    "    print(i,end=\" \")"
   ]
  },
  {
   "cell_type": "code",
   "execution_count": 25,
   "metadata": {},
   "outputs": [
    {
     "name": "stdout",
     "output_type": "stream",
     "text": [
      "0 0\n",
      "0 1\n",
      "0 2\n",
      "0 3\n",
      "0 4\n"
     ]
    }
   ],
   "source": [
    "# Pass\n",
    "# pass is used to create empty blocks in python\n",
    "\n",
    "i=j=0\n",
    "while(i<5):\n",
    "    while(j<5):\n",
    "        print(i,j)\n",
    "        j+=1\n",
    "    i+=1\n"
   ]
  },
  {
   "cell_type": "code",
   "execution_count": 27,
   "metadata": {},
   "outputs": [
    {
     "name": "stdout",
     "output_type": "stream",
     "text": [
      "What do you call eight hobbits? A hobbyte.\n",
      "Unix is user friendly. It's just selective about who its friends are.\n",
      "Sympathy for the Devil is really just about being nice to QAs.\n",
      "The computer is mightier than the pen, the sword, and usually, the programmer\n",
      "If at first you don't succeed, call it version 1.0.\n",
      "I had a problem so I thought I'd use Java. Now I have a ProblemFactory.\n",
      "I would tell you a joke about UDP, but you would never get it.\n",
      "Asked to explain Unicode during an interview, Geoff went into detail about his final year university project. He was not hired.\n",
      "How many programmers does it take to change a lightbulb? None, that's a hardware problem.\n",
      "Computer analyst to programmer: You start coding. I'll go find out what they want.\n",
      "A friend is in a band called 1023Mb. They haven't had a gig yet.\n",
      "How to explain the movie Inception to a programmer? When you run a VM inside another VM, inside another VM ... everything runs real slow!\n",
      "I have a joke on programming but it only works on my computer.\n",
      "There are only two hard problems in Computer Science: cache invalidation, naming things and off-by-one-errors.\n",
      "Why are you always smiling? That's just my... regular expression.\n",
      "How do you generate a random string? Put a first year Computer Science student in Vim and ask them to save and exit.\n",
      "Programmers are tools for converting caffeine into code.\n",
      "QA Engineer walks into a bar. Orders a beer. Orders 0 beers. Orders 999999999 beers. Orders a lizard. Orders -1 beers. Orders a sfdeljknesv.\n"
     ]
    },
    {
     "ename": "KeyboardInterrupt",
     "evalue": "",
     "output_type": "error",
     "traceback": [
      "\u001b[0;31m---------------------------------------------------------------------------\u001b[0m",
      "\u001b[0;31mKeyboardInterrupt\u001b[0m                         Traceback (most recent call last)",
      "Cell \u001b[0;32mIn[27], line 5\u001b[0m\n\u001b[1;32m      3\u001b[0m \u001b[38;5;28;01mwhile\u001b[39;00m \u001b[38;5;28;01mTrue\u001b[39;00m:\n\u001b[1;32m      4\u001b[0m     \u001b[38;5;28mprint\u001b[39m(pj\u001b[38;5;241m.\u001b[39mget_joke())\n\u001b[0;32m----> 5\u001b[0m     \u001b[43mtime\u001b[49m\u001b[38;5;241;43m.\u001b[39;49m\u001b[43msleep\u001b[49m\u001b[43m(\u001b[49m\u001b[38;5;241;43m5\u001b[39;49m\u001b[43m)\u001b[49m\n",
      "\u001b[0;31mKeyboardInterrupt\u001b[0m: "
     ]
    }
   ],
   "source": [
    "import pyjokes as pj\n",
    "import time\n",
    "while True:\n",
    "    print(pj.get_joke())\n",
    "    time.sleep(5)"
   ]
  },
  {
   "cell_type": "code",
   "execution_count": 37,
   "metadata": {},
   "outputs": [
    {
     "name": "stdout",
     "output_type": "stream",
     "text": [
      "( 2 * 1 = 2 )( 3 * 1 = 3 )\n",
      "\n",
      "( 2 * 2 = 4 )( 3 * 2 = 6 )\n",
      "\n",
      "( 2 * 3 = 6 )( 3 * 3 = 9 )\n",
      "\n",
      "( 2 * 4 = 8 )( 3 * 4 = 12 )\n",
      "\n",
      "( 2 * 5 = 10 )( 3 * 5 = 15 )\n",
      "\n",
      "( 2 * 6 = 12 )( 3 * 6 = 18 )\n",
      "\n",
      "( 2 * 7 = 14 )( 3 * 7 = 21 )\n",
      "\n",
      "( 2 * 8 = 16 )( 3 * 8 = 24 )\n",
      "\n",
      "( 2 * 9 = 18 )( 3 * 9 = 27 )\n",
      "\n",
      "( 2 * 10 = 20 )( 3 * 10 = 30 )\n",
      "\n"
     ]
    }
   ],
   "source": [
    "n1 = int(input(\"n1: \"))\n",
    "n2 = int(input(\"n2: \"))\n",
    "i = 1\n",
    "while(i<=10):   # Number of lines\n",
    "    j = n1\n",
    "    while(j<=n2):\n",
    "        print(\"(\",j,\"*\",i,\"=\",i*j,\")\",end=\"\")\n",
    "        j+=1\n",
    "    print(\"\\n\")\n",
    "    i+=1\n"
   ]
  },
  {
   "cell_type": "code",
   "execution_count": 45,
   "metadata": {},
   "outputs": [
    {
     "name": "stdout",
     "output_type": "stream",
     "text": [
      "1 \n",
      "1 2 \n",
      "1 2 3 \n",
      "1 2 3 4 \n",
      "1 2 3 4 5 \n",
      "1 2 3 4 5 6 \n",
      "1 2 3 4 5 6 7 \n"
     ]
    }
   ],
   "source": [
    " # Patterns\n",
    "\"\"\"\n",
    "1\n",
    "1 2\n",
    "1 2 3\n",
    "1 2 3 4\n",
    "1 2 3 4 5\n",
    "\"\"\"\n",
    "n=7\n",
    "i=1\n",
    "while(i<=n):\n",
    "    j=1\n",
    "    while(j<=i):\n",
    "        print(j,end=\" \")\n",
    "        j+=1\n",
    "    print()\n",
    "    i+=1"
   ]
  },
  {
   "cell_type": "code",
   "execution_count": 50,
   "metadata": {},
   "outputs": [
    {
     "name": "stdout",
     "output_type": "stream",
     "text": [
      "5 \n",
      "5 4 \n",
      "5 4 3 \n",
      "5 4 3 2 \n",
      "5 4 3 2 1 \n"
     ]
    }
   ],
   "source": [
    "\"\"\"\n",
    "5\n",
    "5 4\n",
    "5 4 3\n",
    "5 4 3 2\n",
    "5 4 3 2 1\n",
    "\"\"\"\n",
    "n = int(input(\"Enter a number: \"))\n",
    "i = 1\n",
    "while(i<=n):\n",
    "    j = n\n",
    "    while(j>(n-i)):\n",
    "        print(j,end=\" \")\n",
    "        j-=1\n",
    "    print()\n",
    "    i+=1"
   ]
  },
  {
   "cell_type": "code",
   "execution_count": 72,
   "metadata": {},
   "outputs": [
    {
     "name": "stdout",
     "output_type": "stream",
     "text": [
      "5 4 3 2 1 \n",
      "4 3 2 1 \n",
      "3 2 1 \n",
      "2 1 \n",
      "1 \n"
     ]
    }
   ],
   "source": [
    "\"\"\"\n",
    "5 4 3 2 1\n",
    "5 4 3 2\n",
    "5 4 3\n",
    "5 4\n",
    "5\n",
    "\"\"\"\n",
    "n = int(input(\"Enter a number: \"))\n",
    "i = n\n",
    "c = 0\n",
    "while(i>0):\n",
    "    j = n\n",
    "    while(j>(n-i)):\n",
    "        print(j-c,end=\" \")\n",
    "        j-=1\n",
    "    c+=1\n",
    "    print()\n",
    "    i-=1"
   ]
  },
  {
   "cell_type": "code",
   "execution_count": 12,
   "metadata": {},
   "outputs": [
    {
     "name": "stdout",
     "output_type": "stream",
     "text": [
      "5 4 3 2 1 \n",
      "4 3 2 1 2 \n",
      "3 2 1 2 3 \n",
      "2 1 2 3 4 \n",
      "1 2 3 4 5 \n"
     ]
    }
   ],
   "source": [
    "\"\"\"\n",
    "5 4 3 2 1\n",
    "4 3 2 1 2\n",
    "3 2 1 2 3\n",
    "2 1 2 3 4\n",
    "1 2 3 4 5\n",
    "\"\"\"\n",
    "n = int(input(\"Enter a number: \"))\n",
    "c = 0\n",
    "i = 0\n",
    "while(i<n):\n",
    "    j=n\n",
    "    while(j>i):\n",
    "        print(j-c,end=\" \")\n",
    "        j-=1\n",
    "    k=1\n",
    "    while(k<=i):\n",
    "        print(k+1,end=\" \")\n",
    "        k+=1\n",
    "    print()\n",
    "    c+=1\n",
    "    i+=1"
   ]
  },
  {
   "cell_type": "code",
   "execution_count": 61,
   "metadata": {},
   "outputs": [
    {
     "name": "stdout",
     "output_type": "stream",
     "text": [
      "1 \n",
      "* * \n",
      "1 2 3 \n",
      "* * * * \n",
      "1 2 3 4 5 \n"
     ]
    }
   ],
   "source": [
    "\"\"\"\n",
    "1\n",
    "* *\n",
    "1 2 3\n",
    "* * * *\n",
    "1 2 3 4 5\n",
    "\"\"\"\n",
    "n = int(input(\"Enter a number: \"))\n",
    "i = 1\n",
    "\n",
    "while(i<=n):\n",
    "    j = 1\n",
    "    while(j<=i):\n",
    "        if(i%2 == 0):\n",
    "            print(\"*\",end=\" \")\n",
    "        else:\n",
    "            print(j,end=\" \")\n",
    "        j+=1\n",
    "    print()\n",
    "    i+=1"
   ]
  },
  {
   "cell_type": "code",
   "execution_count": 62,
   "metadata": {},
   "outputs": [
    {
     "name": "stdout",
     "output_type": "stream",
     "text": [
      "1 \n",
      "1 * \n",
      "1 * 3 \n",
      "1 * 3 * \n",
      "1 * 3 * 5 \n"
     ]
    }
   ],
   "source": [
    "\"\"\"\n",
    "1\n",
    "1 *\n",
    "1 * 3\n",
    "1 * 3 *\n",
    "1 * 3 * 5\n",
    "\"\"\"\n",
    "n = int(input(\"Enter a number: \"))\n",
    "i = 1\n",
    "\n",
    "while(i<=n):\n",
    "    j = 1\n",
    "    while(j<=i):\n",
    "        if(j%2 == 0):\n",
    "            print(\"*\",end=\" \")\n",
    "        else:\n",
    "            print(j,end=\" \")\n",
    "        j+=1\n",
    "    print()\n",
    "    i+=1"
   ]
  },
  {
   "cell_type": "code",
   "execution_count": 71,
   "metadata": {},
   "outputs": [
    {
     "name": "stdout",
     "output_type": "stream",
     "text": [
      "\n",
      "1 \n",
      "3 4 \n",
      "6 7 8 \n",
      "10 11 12 13 \n",
      "15 16 17 18 19 \n"
     ]
    }
   ],
   "source": [
    "\"\"\"\n",
    "1 \n",
    "3 4 \n",
    "6 7 8 \n",
    "10 11 12 13 \n",
    "15 16 17 18 19 \n",
    "\"\"\"\n",
    "\n",
    "i = 0\n",
    "c = 0\n",
    "n = int(input(\"Enter a number: \"))\n",
    "while(i<=n):\n",
    "    j = 0\n",
    "    while(j<i):\n",
    "        print(j+c,end=\" \")\n",
    "        j+=1\n",
    "    i+=1\n",
    "    print()"
   ]
  },
  {
   "cell_type": "code",
   "execution_count": null,
   "metadata": {},
   "outputs": [],
   "source": []
  }
 ],
 "metadata": {
  "kernelspec": {
   "display_name": "venv",
   "language": "python",
   "name": "python3"
  },
  "language_info": {
   "codemirror_mode": {
    "name": "ipython",
    "version": 3
   },
   "file_extension": ".py",
   "mimetype": "text/x-python",
   "name": "python",
   "nbconvert_exporter": "python",
   "pygments_lexer": "ipython3",
   "version": "3.12.3"
  }
 },
 "nbformat": 4,
 "nbformat_minor": 2
}
